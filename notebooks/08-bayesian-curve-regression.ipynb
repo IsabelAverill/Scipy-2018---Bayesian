{
 "cells": [
  {
   "cell_type": "code",
   "execution_count": 7,
   "metadata": {},
   "outputs": [
    {
     "name": "stdout",
     "output_type": "stream",
     "text": [
      "The autoreload extension is already loaded. To reload it, use:\n",
      "  %reload_ext autoreload\n"
     ]
    }
   ],
   "source": [
    "import pymc3 as pm\n",
    "import matplotlib.pyplot as plt\n",
    "import numpy as np\n",
    "from utils import ECDF\n",
    "from data import load_decay\n",
    "import pandas as pd\n",
    "import theano.tensor as tt\n",
    "\n",
    "%load_ext autoreload\n",
    "%autoreload 2\n",
    "%matplotlib inline\n",
    "%config InlineBackend.figure_format = 'retina'\n",
    "\n",
    "\n",
    "import matplotlib as mpl\n",
    "mpl.rcParams.update(mpl.rcParamsDefault)\n",
    "plt.style.use('dark_background')"
   ]
  },
  {
   "cell_type": "markdown",
   "metadata": {},
   "source": [
    "# Introduction\n",
    "\n",
    "Now that you've learned about Bayesian estimation, we're going to explore one more topic: Bayesian curve fitting.\n",
    "\n",
    "By \"curve fitting\", we're really talking about any curve: those that are bendy, those that are straight, and those that are in between. \n",
    "\n",
    "In order to reinforce this point, rather than show you plain vanilla linear regression, we will work through an exponential decay curve example.\n",
    "\n",
    "# Problem Setup\n",
    "\n",
    "You've taken radioactive decay measurements of an unknown element in a secure facility. The measurements are noisy, though, and potentially have some bias. In the face of this, we would like to be able to characterize the decay constant of this unknown material, potentially leading to an identification of the material.\n",
    "\n",
    "Let's load in the data."
   ]
  },
  {
   "cell_type": "code",
   "execution_count": 8,
   "metadata": {},
   "outputs": [
    {
     "data": {
      "text/html": [
       "<div>\n",
       "<style scoped>\n",
       "    .dataframe tbody tr th:only-of-type {\n",
       "        vertical-align: middle;\n",
       "    }\n",
       "\n",
       "    .dataframe tbody tr th {\n",
       "        vertical-align: top;\n",
       "    }\n",
       "\n",
       "    .dataframe thead th {\n",
       "        text-align: right;\n",
       "    }\n",
       "</style>\n",
       "<table border=\"1\" class=\"dataframe\">\n",
       "  <thead>\n",
       "    <tr style=\"text-align: right;\">\n",
       "      <th></th>\n",
       "      <th>t</th>\n",
       "      <th>activity</th>\n",
       "    </tr>\n",
       "  </thead>\n",
       "  <tbody>\n",
       "    <tr>\n",
       "      <th>0</th>\n",
       "      <td>0</td>\n",
       "      <td>63.496714</td>\n",
       "    </tr>\n",
       "    <tr>\n",
       "      <th>1</th>\n",
       "      <td>1</td>\n",
       "      <td>62.281634</td>\n",
       "    </tr>\n",
       "    <tr>\n",
       "      <th>2</th>\n",
       "      <td>2</td>\n",
       "      <td>62.495498</td>\n",
       "    </tr>\n",
       "    <tr>\n",
       "      <th>3</th>\n",
       "      <td>3</td>\n",
       "      <td>62.806653</td>\n",
       "    </tr>\n",
       "    <tr>\n",
       "      <th>4</th>\n",
       "      <td>4</td>\n",
       "      <td>60.493075</td>\n",
       "    </tr>\n",
       "  </tbody>\n",
       "</table>\n",
       "</div>"
      ],
      "text/plain": [
       "   t   activity\n",
       "0  0  63.496714\n",
       "1  1  62.281634\n",
       "2  2  62.495498\n",
       "3  3  62.806653\n",
       "4  4  60.493075"
      ]
     },
     "execution_count": 8,
     "metadata": {},
     "output_type": "execute_result"
    }
   ],
   "source": [
    "np.random.seed(42)\n",
    "\n",
    "df = load_decay()\n",
    "df.head(5)"
   ]
  },
  {
   "cell_type": "markdown",
   "metadata": {},
   "source": [
    "**Exercise:** Plot `activity` vs. `time`."
   ]
  },
  {
   "cell_type": "code",
   "execution_count": 4,
   "metadata": {},
   "outputs": [],
   "source": [
    "ax = df['activity'].plot()"
   ]
  },
  {
   "cell_type": "markdown",
   "metadata": {},
   "source": [
    "**Discuss:** \n",
    "\n",
    "- For the scenario that we're in, what is a plausible equation that links time to activity?\n",
    "- What are the key parameters that we need to worry about?\n",
    "- What might be justifiable priors for them?\n",
    "\n",
    "## Link Functions\n",
    "\n",
    "If we were to draw out a model for the curve above, it might look like this:\n",
    "\n",
    "![](../images/radioactive-decay-model.jpg)\n",
    "\n",
    "The most important part of this diagram is the \"link function\" - this is what \"links\" the data to the output. In this case, we've used the exponential decay curve as the link function, but if you were doing a linear regression model, all you would have to do is to change the link function for the $y=mx+c$ \"straight curve\", and do another curve fit with the appropriate priors for $m$ and $c$.\n",
    "\n",
    "If you're familiar with the mathematical groundings of deep learning, you'll immediately recognize that a deep neural network model is merely another instance of a really complicated link function that links the input data $x$ to the observed data $y$, with the model weights and biases corresponding to the parameters (let's collectively call this set of parameters $\\theta$).\n",
    "\n",
    "**Exercise:** Now that you've seen a pictorial description of the model, implement it below in PyMC3."
   ]
  },
  {
   "cell_type": "code",
   "execution_count": 9,
   "metadata": {},
   "outputs": [],
   "source": [
    "with pm.Model() as model:\n",
    "    A = pm.HalfNormal('A', sd=100)\n",
    "    tau = pm.Exponential('tau', lam=1)\n",
    "    C = pm.Normal('C', sd=100)\n",
    "    \n",
    "    \n",
    "    sd = pm.HalfCauchy('sd', beta=1)\n",
    "    \n",
    "    link = A * np.exp(-df['t'].values / tau) + C\n",
    "    \n",
    "    like = pm.Normal('activity', mu=link, sd=sd, observed=df['activity'].values)"
   ]
  },
  {
   "cell_type": "markdown",
   "metadata": {},
   "source": [
    "Sample from the posterior."
   ]
  },
  {
   "cell_type": "code",
   "execution_count": null,
   "metadata": {},
   "outputs": [
    {
     "name": "stderr",
     "output_type": "stream",
     "text": [
      "Auto-assigning NUTS sampler...\n",
      "Initializing NUTS using jitter+adapt_diag...\n",
      "Sequential sampling (2 chains in 1 job)\n",
      "NUTS: [sd_log__, C, tau_log__, A_log__]\n",
      " 72%|████████████████████████████████████▏             | 2891/4000 [00:07<00:02, 382.19it/s]"
     ]
    }
   ],
   "source": [
    "with model:\n",
    "    trace = pm.sample(2000, tune=2000)\n",
    "    # Note: Sampler may pause for a while after finishing"
   ]
  },
  {
   "cell_type": "markdown",
   "metadata": {},
   "source": [
    "Check that sampling has converged."
   ]
  },
  {
   "cell_type": "code",
   "execution_count": null,
   "metadata": {},
   "outputs": [],
   "source": [
    "traces = pm.traceplot(trace)"
   ]
  },
  {
   "cell_type": "markdown",
   "metadata": {},
   "source": [
    "# Summary\n",
    "\n",
    "- In lieu of showing you a \"straight curve\" (line) fit, you've now seen an arbitrary curve fit.\n",
    "- As long as you can find a way to parameterize the curve with a function, you can perform inference on the curve's parameters.\n",
    "- That function is called the \"link function\", which provides the link between the parameters, data and the output.\n",
    "\n",
    "More generally, if\n",
    "\n",
    "$$y = f(x, \\theta)$$\n",
    "\n",
    "where $\\theta$ are merely a set of parameters, then you can perform inference on the curve's parameters $\\theta$. To make this clear:\n",
    "\n",
    "| curve name | functional form | parameters |\n",
    "|------------|-----------------|---------------------|\n",
    "| exponential decay | $y = Ae^{-t/\\tau} + C$ | $A$, $\\tau$, $C$|\n",
    "| sine curves | $y = A\\sin(\\omega  x + \\phi)$ | $A$, $\\omega$, $\\phi$ |\n",
    "| linear regression | $y = mx + c$ | $m$, $c$ |\n",
    "| logistic regression | $y = L(mx + c)$ | $m$, $c$ |\n",
    "| 4-parameter IC50 | $y = \\frac{a - i}{1 + 10^{\\beta(log(\\tau) - x)}} + i$ | $a$, $i$, $\\tau$, $\\beta$ |\n",
    "| deep learning | $y = f(x, \\theta)$ | $\\theta$ |"
   ]
  },
  {
   "cell_type": "code",
   "execution_count": null,
   "metadata": {},
   "outputs": [],
   "source": []
  }
 ],
 "metadata": {
  "kernelspec": {
   "display_name": "Python [conda env:bayesian]",
   "language": "python",
   "name": "conda-env-bayesian-py"
  },
  "language_info": {
   "codemirror_mode": {
    "name": "ipython",
    "version": 3
   },
   "file_extension": ".py",
   "mimetype": "text/x-python",
   "name": "python",
   "nbconvert_exporter": "python",
   "pygments_lexer": "ipython3",
   "version": "3.6.6"
  }
 },
 "nbformat": 4,
 "nbformat_minor": 2
}
